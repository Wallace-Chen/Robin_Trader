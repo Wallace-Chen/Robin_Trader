{
 "cells": [
  {
   "cell_type": "code",
   "execution_count": null,
   "metadata": {},
   "outputs": [
    {
     "name": "stdout",
     "output_type": "stream",
     "text": [
      "Initializing realTimeshow class for the stock : Apple\n",
      "initialize the tradingStrategy class\n",
      "2020-07-20 11:59:48.709084: add new data points 385.0 and send it to pipe!\n",
      "2020-07-20 12:01:19.343579: add new data points 385.0 and send it to pipe!\n"
     ]
    }
   ],
   "source": [
    "# %load autoTrade_realTime.py\n",
    "from observer import *\n",
    "from execute_orders_realTime import *\n",
    "\n",
    "class tradingStrategy(realTimeShow):\n",
    "\tdef __init__(self, symbol, refreshingRate = 5, period_sma1 = 0.1, period_sma2 = 0.2, period_sma3 = 0.5,showPlot=False):\n",
    "\t\trealTimeShow.__init__(self, symbol, refreshingRate, period_sma1, period_sma2, period_sma3, showPlot)\n",
    "\t\tprint(\"initialize the tradingStrategy class\")\n",
    "#\t\tself.myOption = None\n",
    "\t\tself.send_pipe_opt, self.recv_pipe_opt = mp.Pipe()\n",
    "\t\tself.plotterOption = showPrice()\n",
    "\n",
    "\tclass analyze(threading.Thread):\n",
    "\t\tdef __init__(self, stk, opt, refreshingRate, send_pipe, plotterOption, recv_pipe_opt, send_pipe_opt, fetchingPriceOption, showPlot=True):\n",
    "\t\t\tthreading.Thread.__init__(self)\n",
    "\t\t\tself.refresh_rate = refreshingRate\n",
    "\t\t\tself.stk = stk\n",
    "\t\t\tself.opt = opt\n",
    "\t\t\tself.send_pipe = send_pipe\n",
    "\t\t\tself.plotterOption = plotterOption\n",
    "\t\t\tself.recv_pipe_opt = recv_pipe_opt\n",
    "\t\t\tself.send_pipe_opt = send_pipe_opt\n",
    "\t\t\tself.showPlot = showPlot\n",
    "\t\t\tself.fetchingPriceOption = fetchingPriceOption\n",
    "\n",
    "\t\tdef run(self):\n",
    "\t\t\tplotshown = False\n",
    "\t\t\tinitOpt = False\n",
    "\t\t\twhile True:\n",
    "\t\t\t\ttime.sleep(self.refresh_rate)\n",
    "\t\t\t\tr.strategy_ema(self.stk, self.opt, self.send_pipe, self.send_pipe_opt)\n",
    "\t\t\t\t\n",
    "\t\t\t\tif((not initOpt) and (not self.opt.type == \"\") and len(self.opt.price)==0):\n",
    "\t\t\t\t\tprint(\"option will be initialized!\") \n",
    "\t\t\t\t\tinitOpt = True\n",
    "\t\t\t\t\tinitializeOption(self.opt)\n",
    "\n",
    "\t\t\t\t\tthread_fetchPriceOption = self.fetchingPriceOption(self.opt, self.refresh_rate)\n",
    "\t\t\t\t\tthread_fetchPriceOption.start()\n",
    "\t\t\t\tif (not plotshown) and self.showPlot and (not self.opt.type == \"\"):\n",
    "\t\t\t\t\tplotshown = True\n",
    "\t\t\t\t\tprocess_plotOptionPrice = mp.Process(target=self.plotterOption, args=(self.opt, self.recv_pipe_opt,self.refresh_rate,), daemon=True)\n",
    "\t\t\t\t\tprocess_plotOptionPrice.start()\n",
    "\n",
    "\tdef run(self):\n",
    "\t\tthread_fetchPrice = self.fetchingPrice(self.myStock, self.refresh_rate)\n",
    "\t\t#thread_fetchPrice = self.fetchingPrice_simulation(self.myStock, self.refresh_rate) # for simulation\n",
    "\t\tthread_analyze = self.analyze(self.myStock, self.myOption, self.refresh_rate, self.send_pipe, self.plotterOption, self.recv_pipe_opt, self.send_pipe_opt, self.fetchingPriceOption)\n",
    "\t\t#thread_analyze = self.analyze(self.myStock, self.myOption, self.refresh_rate, self.send_pipe, self.plotterOption, self.recv_pipe_opt, self.send_pipe_opt, self.fetchingPriceOption_simulation) # for simulation\n",
    "\t\tthread_execute = orderExecution(self.myStock,  self.myOption, self.myStock.period_ma1, self.myStock.period_ma2, self.myStock.period_ma3, self.refresh_rate, 200)\n",
    "\t\tthread_fetchPrice.start()\n",
    "\t\tthread_analyze.start()\n",
    "\t\tthread_execute.start()\n",
    "\t\tif self.showplot:\n",
    "\t\t\tprocess_plotPrice = mp.Process(target=self.plotter, args=(self.myStock,self.recv_pipe,self.refresh_rate,), daemon=True)\n",
    "\t\t\tprocess_plotPrice.start()\n",
    "\n",
    "\n",
    "\t\tthread_fetchPrice.join()\n",
    "\t\tthread_analyze.join()\n",
    "\t\tthread_execute.join()\n",
    "\n",
    "#\t\ttime.sleep(10)\n",
    "#\t\tglobal ENDFLAG\n",
    "#\t\tENDFLAG = True\n",
    "#\t\tthread_fetchPrice.join()\n",
    "\n",
    "\n",
    "if __name__ == '__main__':\n",
    "\t#mp.set_start_method(\"forkserver\") \n",
    "\tmyStrategy = tradingStrategy(\"AAPL\",45, 9, 30, 60, True)\n",
    "\t#myStrategy = tradingStrategy(\"AAL\",45, 9, 30, 60, True)\n",
    "\tmyStrategy.run()\n"
   ]
  }
 ],
 "metadata": {
  "kernelspec": {
   "display_name": "Python 3",
   "language": "python",
   "name": "python3"
  },
  "language_info": {
   "codemirror_mode": {
    "name": "ipython",
    "version": 3
   },
   "file_extension": ".py",
   "mimetype": "text/x-python",
   "name": "python",
   "nbconvert_exporter": "python",
   "pygments_lexer": "ipython3",
   "version": "3.7.7"
  }
 },
 "nbformat": 4,
 "nbformat_minor": 4
}
